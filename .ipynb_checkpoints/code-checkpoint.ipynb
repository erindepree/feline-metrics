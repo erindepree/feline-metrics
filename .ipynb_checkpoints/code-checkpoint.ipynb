{
 "cells": [
  {
   "cell_type": "markdown",
   "id": "02fc1b9a-70a5-4ca9-8c93-5eed19004168",
   "metadata": {},
   "source": [
    "# FelineMetrics"
   ]
  },
  {
   "cell_type": "code",
   "execution_count": 33,
   "id": "0c7a9ca0-cd6b-4e33-b050-987aaec27cad",
   "metadata": {},
   "outputs": [],
   "source": [
    "# import numpy as np\n",
    "import pandas as pd\n",
    "from datetime import date\n",
    "from dateutil.relativedelta import relativedelta"
   ]
  },
  {
   "cell_type": "code",
   "execution_count": 82,
   "id": "c28a44cb-b9b7-456e-8b97-8621cda6985b",
   "metadata": {},
   "outputs": [],
   "source": [
    "# pets is a DataFrame that lists all pets in database\n",
    "\n",
    "pets_cols = ['petID', 'name', 'species', 'breed', 'birthdate', 'is_active', 'deathdate', 'age']\n",
    "\n",
    "pets = pd.DataFrame(columns = pets_cols)"
   ]
  },
  {
   "cell_type": "code",
   "execution_count": 83,
   "id": "607e8b90-3965-4b45-adaf-af2425981ce3",
   "metadata": {},
   "outputs": [
    {
     "data": {
      "text/html": [
       "<div>\n",
       "<style scoped>\n",
       "    .dataframe tbody tr th:only-of-type {\n",
       "        vertical-align: middle;\n",
       "    }\n",
       "\n",
       "    .dataframe tbody tr th {\n",
       "        vertical-align: top;\n",
       "    }\n",
       "\n",
       "    .dataframe thead th {\n",
       "        text-align: right;\n",
       "    }\n",
       "</style>\n",
       "<table border=\"1\" class=\"dataframe\">\n",
       "  <thead>\n",
       "    <tr style=\"text-align: right;\">\n",
       "      <th></th>\n",
       "      <th>petID</th>\n",
       "      <th>name</th>\n",
       "      <th>species</th>\n",
       "      <th>breed</th>\n",
       "      <th>birthdate</th>\n",
       "      <th>is_active</th>\n",
       "      <th>deathdate</th>\n",
       "      <th>age</th>\n",
       "    </tr>\n",
       "  </thead>\n",
       "  <tbody>\n",
       "  </tbody>\n",
       "</table>\n",
       "</div>"
      ],
      "text/plain": [
       "Empty DataFrame\n",
       "Columns: [petID, name, species, breed, birthdate, is_active, deathdate, age]\n",
       "Index: []"
      ]
     },
     "execution_count": 83,
     "metadata": {},
     "output_type": "execute_result"
    }
   ],
   "source": [
    "pets"
   ]
  },
  {
   "cell_type": "code",
   "execution_count": 84,
   "id": "fd85bea0-f94d-4156-aa08-7d6b22e3e782",
   "metadata": {},
   "outputs": [],
   "source": [
    "pet_info = pd.DataFrame[{\n",
    "        'petID': 0, \n",
    "        'name': 'Sebastian', \n",
    "        'species': 'cat', \n",
    "        'breed': 'siberian', \n",
    "        'birthdate': date(2005, 6, 15), \n",
    "        'is_active': False, \n",
    "        # 'age': 6,\n",
    "        'deathdate': date(2011, 6, 20)\n",
    "    },\n",
    "    {\n",
    "        'petID': 1, \n",
    "        'name': 'Mel', \n",
    "        'species': 'cat', \n",
    "        'breed': 'siberian', \n",
    "        'birthdate': date(2011, 8, 5), \n",
    "        'is_active': True, \n",
    "        # 'age': relativedelta(date.today(), date(2011, 8,5)),\n",
    "        'deathdate': None\n",
    "    }]\n",
    "\n",
    "#pets = pd.concat([pets, pets_info], ignore_index=True)\n",
    "\n",
    "#pets = pd.DataFrame[pet_data]"
   ]
  },
  {
   "cell_type": "code",
   "execution_count": 85,
   "id": "16abe787-dba8-40ea-96a7-5ab43cfdc134",
   "metadata": {},
   "outputs": [
    {
     "data": {
      "text/html": [
       "<div>\n",
       "<style scoped>\n",
       "    .dataframe tbody tr th:only-of-type {\n",
       "        vertical-align: middle;\n",
       "    }\n",
       "\n",
       "    .dataframe tbody tr th {\n",
       "        vertical-align: top;\n",
       "    }\n",
       "\n",
       "    .dataframe thead th {\n",
       "        text-align: right;\n",
       "    }\n",
       "</style>\n",
       "<table border=\"1\" class=\"dataframe\">\n",
       "  <thead>\n",
       "    <tr style=\"text-align: right;\">\n",
       "      <th></th>\n",
       "      <th>petID</th>\n",
       "      <th>name</th>\n",
       "      <th>species</th>\n",
       "      <th>breed</th>\n",
       "      <th>birthdate</th>\n",
       "      <th>is_active</th>\n",
       "      <th>deathdate</th>\n",
       "      <th>age</th>\n",
       "    </tr>\n",
       "  </thead>\n",
       "  <tbody>\n",
       "    <tr>\n",
       "      <th>0</th>\n",
       "      <td>0</td>\n",
       "      <td>Sebastian</td>\n",
       "      <td>cat</td>\n",
       "      <td>siberian</td>\n",
       "      <td>2005-06-15</td>\n",
       "      <td>False</td>\n",
       "      <td>2011-06-20</td>\n",
       "      <td>NaN</td>\n",
       "    </tr>\n",
       "    <tr>\n",
       "      <th>1</th>\n",
       "      <td>1</td>\n",
       "      <td>Mel</td>\n",
       "      <td>cat</td>\n",
       "      <td>siberian</td>\n",
       "      <td>2011-08-05</td>\n",
       "      <td>True</td>\n",
       "      <td>None</td>\n",
       "      <td>NaN</td>\n",
       "    </tr>\n",
       "  </tbody>\n",
       "</table>\n",
       "</div>"
      ],
      "text/plain": [
       "  petID       name species     breed   birthdate is_active   deathdate  age\n",
       "0     0  Sebastian     cat  siberian  2005-06-15     False  2011-06-20  NaN\n",
       "1     1        Mel     cat  siberian  2011-08-05      True        None  NaN"
      ]
     },
     "execution_count": 85,
     "metadata": {},
     "output_type": "execute_result"
    }
   ],
   "source": [
    "pets.sort_values(by='birthdate')"
   ]
  },
  {
   "cell_type": "code",
   "execution_count": 40,
   "id": "698e19a5-c774-4080-b9ee-ababaf77bbda",
   "metadata": {},
   "outputs": [
    {
     "name": "stdout",
     "output_type": "stream",
     "text": [
      "13\n"
     ]
    }
   ],
   "source": [
    "print(relativedelta(date.today(), date(2011, 8,5)).years)"
   ]
  },
  {
   "cell_type": "code",
   "execution_count": 86,
   "id": "16f97dd4-eb41-4fcd-a581-aff6ca1fb8c0",
   "metadata": {},
   "outputs": [],
   "source": [
    "def age(pet):\n",
    "    alive = pet['is_active']\n",
    "    birth = pet['birthdate']\n",
    "    death = pet['deathdate']\n",
    "    if alive:\n",
    "        return relativedelta( date.today(), birth )\n",
    "    else:\n",
    "        return relativedelta( death, birth )\n"
   ]
  },
  {
   "cell_type": "code",
   "execution_count": 87,
   "id": "b062eab6-f702-41bb-a716-244cbffb954b",
   "metadata": {},
   "outputs": [
    {
     "data": {
      "text/html": [
       "<div>\n",
       "<style scoped>\n",
       "    .dataframe tbody tr th:only-of-type {\n",
       "        vertical-align: middle;\n",
       "    }\n",
       "\n",
       "    .dataframe tbody tr th {\n",
       "        vertical-align: top;\n",
       "    }\n",
       "\n",
       "    .dataframe thead th {\n",
       "        text-align: right;\n",
       "    }\n",
       "</style>\n",
       "<table border=\"1\" class=\"dataframe\">\n",
       "  <thead>\n",
       "    <tr style=\"text-align: right;\">\n",
       "      <th></th>\n",
       "      <th>birthdate</th>\n",
       "    </tr>\n",
       "  </thead>\n",
       "  <tbody>\n",
       "    <tr>\n",
       "      <th>0</th>\n",
       "      <td>2005-06-15</td>\n",
       "    </tr>\n",
       "  </tbody>\n",
       "</table>\n",
       "</div>"
      ],
      "text/plain": [
       "    birthdate\n",
       "0  2005-06-15"
      ]
     },
     "execution_count": 87,
     "metadata": {},
     "output_type": "execute_result"
    }
   ],
   "source": [
    "pets[pets['petID']==0][['birthdate']]"
   ]
  },
  {
   "cell_type": "code",
   "execution_count": 88,
   "id": "da4daab9-eef1-40be-abf7-d78912a85af1",
   "metadata": {},
   "outputs": [],
   "source": [
    "pets['age'] = pets.apply(age, axis=1)"
   ]
  },
  {
   "cell_type": "code",
   "execution_count": 89,
   "id": "826952d3-1fa5-4848-a3c0-b2e5686afdc9",
   "metadata": {},
   "outputs": [
    {
     "data": {
      "text/html": [
       "<div>\n",
       "<style scoped>\n",
       "    .dataframe tbody tr th:only-of-type {\n",
       "        vertical-align: middle;\n",
       "    }\n",
       "\n",
       "    .dataframe tbody tr th {\n",
       "        vertical-align: top;\n",
       "    }\n",
       "\n",
       "    .dataframe thead th {\n",
       "        text-align: right;\n",
       "    }\n",
       "</style>\n",
       "<table border=\"1\" class=\"dataframe\">\n",
       "  <thead>\n",
       "    <tr style=\"text-align: right;\">\n",
       "      <th></th>\n",
       "      <th>petID</th>\n",
       "      <th>name</th>\n",
       "      <th>species</th>\n",
       "      <th>breed</th>\n",
       "      <th>birthdate</th>\n",
       "      <th>is_active</th>\n",
       "      <th>deathdate</th>\n",
       "      <th>age</th>\n",
       "    </tr>\n",
       "  </thead>\n",
       "  <tbody>\n",
       "    <tr>\n",
       "      <th>0</th>\n",
       "      <td>0</td>\n",
       "      <td>Sebastian</td>\n",
       "      <td>cat</td>\n",
       "      <td>siberian</td>\n",
       "      <td>2005-06-15</td>\n",
       "      <td>False</td>\n",
       "      <td>2011-06-20</td>\n",
       "      <td>relativedelta(years=+6, days=+5)</td>\n",
       "    </tr>\n",
       "    <tr>\n",
       "      <th>1</th>\n",
       "      <td>1</td>\n",
       "      <td>Mel</td>\n",
       "      <td>cat</td>\n",
       "      <td>siberian</td>\n",
       "      <td>2011-08-05</td>\n",
       "      <td>True</td>\n",
       "      <td>None</td>\n",
       "      <td>relativedelta(years=+13, months=+10, days=+28)</td>\n",
       "    </tr>\n",
       "  </tbody>\n",
       "</table>\n",
       "</div>"
      ],
      "text/plain": [
       "  petID       name species     breed   birthdate is_active   deathdate  \\\n",
       "0     0  Sebastian     cat  siberian  2005-06-15     False  2011-06-20   \n",
       "1     1        Mel     cat  siberian  2011-08-05      True        None   \n",
       "\n",
       "                                              age  \n",
       "0                relativedelta(years=+6, days=+5)  \n",
       "1  relativedelta(years=+13, months=+10, days=+28)  "
      ]
     },
     "execution_count": 89,
     "metadata": {},
     "output_type": "execute_result"
    }
   ],
   "source": [
    "pets"
   ]
  },
  {
   "cell_type": "code",
   "execution_count": 90,
   "id": "1cb09e85-37df-4f5e-8c53-566df0e8d51e",
   "metadata": {},
   "outputs": [],
   "source": [
    "pets.to_csv('./data/pets.csv', index=False)"
   ]
  },
  {
   "cell_type": "markdown",
   "id": "2c350863-050d-4cb3-870e-ffccb410faa4",
   "metadata": {},
   "source": [
    "## Read Pet Data"
   ]
  },
  {
   "cell_type": "code",
   "execution_count": 93,
   "id": "31c80307-6f38-46cf-8e2c-cdc1cd94cd69",
   "metadata": {},
   "outputs": [
    {
     "data": {
      "text/html": [
       "<div>\n",
       "<style scoped>\n",
       "    .dataframe tbody tr th:only-of-type {\n",
       "        vertical-align: middle;\n",
       "    }\n",
       "\n",
       "    .dataframe tbody tr th {\n",
       "        vertical-align: top;\n",
       "    }\n",
       "\n",
       "    .dataframe thead th {\n",
       "        text-align: right;\n",
       "    }\n",
       "</style>\n",
       "<table border=\"1\" class=\"dataframe\">\n",
       "  <thead>\n",
       "    <tr style=\"text-align: right;\">\n",
       "      <th></th>\n",
       "      <th>petID</th>\n",
       "      <th>name</th>\n",
       "      <th>species</th>\n",
       "      <th>breed</th>\n",
       "      <th>birthdate</th>\n",
       "      <th>is_active</th>\n",
       "      <th>deathdate</th>\n",
       "      <th>age</th>\n",
       "    </tr>\n",
       "  </thead>\n",
       "  <tbody>\n",
       "    <tr>\n",
       "      <th>0</th>\n",
       "      <td>0</td>\n",
       "      <td>Sebastian</td>\n",
       "      <td>cat</td>\n",
       "      <td>siberian</td>\n",
       "      <td>2005-06-15</td>\n",
       "      <td>False</td>\n",
       "      <td>2011-06-20</td>\n",
       "      <td>relativedelta(years=+6, days=+5)</td>\n",
       "    </tr>\n",
       "    <tr>\n",
       "      <th>1</th>\n",
       "      <td>1</td>\n",
       "      <td>Mel</td>\n",
       "      <td>cat</td>\n",
       "      <td>siberian</td>\n",
       "      <td>2011-08-05</td>\n",
       "      <td>True</td>\n",
       "      <td>NaN</td>\n",
       "      <td>relativedelta(years=+13, months=+10, days=+28)</td>\n",
       "    </tr>\n",
       "  </tbody>\n",
       "</table>\n",
       "</div>"
      ],
      "text/plain": [
       "   petID       name species     breed   birthdate  is_active   deathdate  \\\n",
       "0      0  Sebastian     cat  siberian  2005-06-15      False  2011-06-20   \n",
       "1      1        Mel     cat  siberian  2011-08-05       True         NaN   \n",
       "\n",
       "                                              age  \n",
       "0                relativedelta(years=+6, days=+5)  \n",
       "1  relativedelta(years=+13, months=+10, days=+28)  "
      ]
     },
     "execution_count": 93,
     "metadata": {},
     "output_type": "execute_result"
    }
   ],
   "source": [
    "df = pd.read_csv('./data/pets.csv')\n",
    "\n",
    "df"
   ]
  },
  {
   "cell_type": "markdown",
   "id": "62eb0df7-7cf0-4aa1-abfe-7d91054d68f0",
   "metadata": {},
   "source": [
    "## Create New csv Files"
   ]
  },
  {
   "cell_type": "code",
   "execution_count": 97,
   "id": "c3c7950e-8399-4fac-8eb2-7c365ebe1314",
   "metadata": {},
   "outputs": [],
   "source": [
    "# record file\n",
    "\n",
    "record_cols = ['date', 'petID', 'event', 'clinic', 'clinicID', 'vet', 'vetID', 'notes']\n",
    "\n",
    "test_cols = ['petID', 'date', 'variable', 'measurement', 'units', 'notes', 'clinic', 'clinicID']\n",
    "\n",
    "prescription_cols = ['prescriptionID', 'petID', 'date_prescribed', 'vet', 'vetID', 'medication', 'dose', 'units', 'frequency', 'notes']\n",
    "\n",
    "medadmin_cols = ['prescriptionID', 'petID', 'date_given', 'time_give', 'dose', 'units', 'notes']"
   ]
  },
  {
   "cell_type": "code",
   "execution_count": 98,
   "id": "76b1f2f3-6ae1-45d3-aa45-766a43c94c05",
   "metadata": {},
   "outputs": [],
   "source": [
    "pd.DataFrame(columns=record_cols).to_csv('./data/mel/records.csv')\n",
    "pd.DataFrame(columns=test_cols).to_csv('./data/mel/tests.csv')\n",
    "pd.DataFrame(columns=prescription_cols).to_csv('./data/mel/prescriptions.csv')\n",
    "pd.DataFrame(columns=medadmin_cols).to_csv('./data/mel/med_admin.csv')"
   ]
  },
  {
   "cell_type": "code",
   "execution_count": 96,
   "id": "b6aeaa32-18c9-46bc-ac14-50cd25a5a39b",
   "metadata": {},
   "outputs": [],
   "source": [
    "vet_cols = ['vetID', 'lastname', 'firstname', 'clinic', 'clinicID', 'notes']\n",
    "\n",
    "clinic_cols = ['clinicID', 'clinicname', 'address', 'phone', 'website', 'text', 'email', 'notes']\n",
    "\n",
    "pd.DataFrame(columns=vet_cols).to_csv('./data/vets.csv')\n",
    "pd.DataFrame(columns=clinic_cols).to_csv('./data/clinics.csv')"
   ]
  },
  {
   "cell_type": "markdown",
   "id": "af2871e6-54b8-4a7d-b895-59d264d1a9a8",
   "metadata": {},
   "source": [
    "## Vet & Clinic Records"
   ]
  },
  {
   "cell_type": "code",
   "execution_count": 102,
   "id": "935c599e-34fe-406e-9765-9b011e3b6d8e",
   "metadata": {},
   "outputs": [],
   "source": [
    "vets= pd.read_csv('./data/vets.csv').drop(columns='Unnamed: 0')"
   ]
  },
  {
   "cell_type": "code",
   "execution_count": 103,
   "id": "ce200dbd-5805-401c-b36b-9c8a6cb8d169",
   "metadata": {},
   "outputs": [
    {
     "data": {
      "text/html": [
       "<div>\n",
       "<style scoped>\n",
       "    .dataframe tbody tr th:only-of-type {\n",
       "        vertical-align: middle;\n",
       "    }\n",
       "\n",
       "    .dataframe tbody tr th {\n",
       "        vertical-align: top;\n",
       "    }\n",
       "\n",
       "    .dataframe thead th {\n",
       "        text-align: right;\n",
       "    }\n",
       "</style>\n",
       "<table border=\"1\" class=\"dataframe\">\n",
       "  <thead>\n",
       "    <tr style=\"text-align: right;\">\n",
       "      <th></th>\n",
       "      <th>vetID</th>\n",
       "      <th>lastname</th>\n",
       "      <th>firstname</th>\n",
       "      <th>clinic</th>\n",
       "      <th>clinicID</th>\n",
       "      <th>notes</th>\n",
       "    </tr>\n",
       "  </thead>\n",
       "  <tbody>\n",
       "  </tbody>\n",
       "</table>\n",
       "</div>"
      ],
      "text/plain": [
       "Empty DataFrame\n",
       "Columns: [vetID, lastname, firstname, clinic, clinicID, notes]\n",
       "Index: []"
      ]
     },
     "execution_count": 103,
     "metadata": {},
     "output_type": "execute_result"
    }
   ],
   "source": [
    "vets"
   ]
  },
  {
   "cell_type": "code",
   "execution_count": null,
   "id": "fac46691-47eb-4f4a-aa63-817218ef7283",
   "metadata": {},
   "outputs": [],
   "source": [
    "vets_seen = [\n",
    "    {\n",
    "        'vetID': 93,\n",
    "        'lastname': 'Fox',\n",
    "        'firstname': 'Kenneth',\n",
    "        'clinic': 'WECare', \n",
    "        'clinicID': 494,\n",
    "        'notes': 'Emergency vet'\n",
    "    },\n",
    "    {\n",
    "        'vetID': 33,\n",
    "        'lastname': 'Webb',\n",
    "        'firstname': 'Melissa',\n",
    "        'clinic': 'VCA Three Notch Animal Hospital',\n",
    "        'clinicID': 755,\n",
    "        'notes': 'new primary for Mel (July 2025)'\n",
    "    }\n",
    "]\n",
    "\n",
    "clinics_visited = [\n",
    "    {\n",
    "        'clinicID': 755,\n",
    "        'clinicname': 'Three Notch',\n",
    "        'address': '44215 Airport View Dr, Hollywood, MD 20636', \n",
    "        'phone': '301-373-8633', \n",
    "        'website': 'https://vcahospitals.com/three-notch', \n",
    "        'text': None, \n",
    "        'email': None, \n",
    "        'notes': 'Primary care for Mel 2025 -- present, Sebastian passed away here in summer 2011'\n",
    "    },\n",
    "    {\n",
    "        'clinicID': 494,\n",
    "        'clinicname': 'WECare',\n",
    "        'address': '3485 Rockefeller Ct, Waldorf, MD 20602', \n",
    "        'phone': '301-705-9700', \n",
    "        'website': 'https://www.waldorfemergencycare.com/', \n",
    "        'text': None, \n",
    "        'email': 'wecare.waldorf@gmail.com', \n",
    "        'notes': 'Visited in June 2025 for Mel's limp, open 24/7/365'\n",
    "    },\n",
    "    {\n",
    "        'clinicID': 440,\n",
    "        'clinicname': 'Yarmouth Veterinary Center',\n",
    "        'address': '5 Environmental Dr, Cumberland Foreside, ME 04110', \n",
    "        'phone': '207-846-6515', \n",
    "        'website': 'www.yarmouthvetcenter.com', \n",
    "        'text': '207-846-6515', \n",
    "        'email': 'clients@yarmouthvet.com', \n",
    "        'notes': 'primary care vet for Mel, 2022 -- 2025'\n",
    "    },\n",
    "    {\n",
    "        'clinicID': 662,\n",
    "        'clinicname': 'Park Veterinary Clinic',\n",
    "        'address': , \n",
    "        'phone': , \n",
    "        'website': , \n",
    "        'text': , \n",
    "        'email': , \n",
    "        'notes': 'Closed, records with Three Notch, primary care for Sebastian 2008--2011, primary care for Mel 2011 -- 2022'\n",
    "    },\n",
    "    {\n",
    "        'clinicID': 291,\n",
    "        'clinicname': 'PetMedic Urgent Clinic -- Freeport, ME',\n",
    "        'address': '200 Lower Main St, Freeport, ME 04032', \n",
    "        'phone': '207-805-5398', \n",
    "        'website': 'https://petmedicurgentcare.com/locations/freeport-me/', \n",
    "        'text': None, \n",
    "        'email': 'freeport@petmedicurgentcare.com', \n",
    "        'notes': 'emergency vet visited in spring 2023'\n",
    "    }\n",
    "#    {\n",
    "#        'clinicID': 170,\n",
    "#        'clinicname': '',\n",
    "#        'address': , \n",
    "#        'phone': , \n",
    "#        'website': , \n",
    "#        'text': , \n",
    "#        'email': , \n",
    "#        'notes': \n",
    "#    },\n",
    "]"
   ]
  }
 ],
 "metadata": {
  "kernelspec": {
   "display_name": "Python 3 (ipykernel)",
   "language": "python",
   "name": "python3"
  },
  "language_info": {
   "codemirror_mode": {
    "name": "ipython",
    "version": 3
   },
   "file_extension": ".py",
   "mimetype": "text/x-python",
   "name": "python",
   "nbconvert_exporter": "python",
   "pygments_lexer": "ipython3",
   "version": "3.11.9"
  }
 },
 "nbformat": 4,
 "nbformat_minor": 5
}
